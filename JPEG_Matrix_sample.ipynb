{
 "cells": [
  {
   "cell_type": "markdown",
   "source": [
    "### NTM WS22\n",
    "# Implementing the JPEG Compression Algorithm\n",
    "#### Michael Mente 01634435, Lukas Pezzei 11834075, Julian Saria 01608505"
   ],
   "metadata": {
    "collapsed": false
   }
  },
  {
   "cell_type": "code",
   "execution_count": 1,
   "metadata": {
    "collapsed": true
   },
   "outputs": [],
   "source": [
    "from jpeg_implementation.dct import block_dct2, block_idct2\n",
    "from jpeg_implementation.huffman import generate_huffman_code, encode_huffman, decode_huffman\n",
    "from jpeg_implementation.quantization import quantize, quantize_inverse, \\\n",
    "    get_quantization_matrix_for_quality_percent\n",
    "from jpeg_implementation.runLengthEncode import  resort_values_zig_zag, run_length_encode, flatten, resort_values_zig_zag_reverse, run_length_decode, un_flatten\n",
    "\n",
    "import numpy as np\n",
    "import matplotlib.pyplot as plt\n",
    "from typing import Tuple"
   ]
  },
  {
   "cell_type": "code",
   "execution_count": 2,
   "outputs": [],
   "source": [
    "# image which should be encoded\n",
    "image_path = \"images/lenna_32x32.png\"\n",
    "\n",
    "# jpeg parameters\n",
    "block_size: int = 8\n",
    "subsampling_settings: Tuple[int, int, int] = (4, 2, 0)  # can be (4,1,0), (4,1,1), (4,2,0), (4,2,2), (4,4,4)\n",
    "quantization_table_quality: int = 50  # percentage of quantization quality 0..100"
   ],
   "metadata": {
    "collapsed": false
   }
  },
  {
   "cell_type": "code",
   "execution_count": 3,
   "outputs": [
    {
     "name": "stdout",
     "output_type": "stream",
     "text": [
      "[[158 156 165 147  98 106 110 124]\n",
      " [157 159 164 144  95 105 108 122]\n",
      " [161 163 161 142  94 104 108 121]\n",
      " [165 139 161 145  90 101 108 121]\n",
      " [152 106 164 142  85 100 105 116]\n",
      " [109 105 164 141  87 100 105 117]\n",
      " [ 91 105 162 142  86  99 104 116]\n",
      " [ 91 103 161 142  83  98 104 122]]\n"
     ]
    },
    {
     "data": {
      "text/plain": "<Figure size 640x480 with 1 Axes>",
      "image/png": "[encoded data removed]"
     },
     "metadata": {},
     "output_type": "display_data"
    }
   ],
   "source": [
    "original_image = plt.imread(image_path)\n",
    "\n",
    "# strip alpha channel if exists\n",
    "if original_image.shape[2] == 4:\n",
    "    channels = np.dsplit(original_image, 4)\n",
    "    original_image = np.dstack(channels[:3])\n",
    "\n",
    "# select only 8x8 matrix\n",
    "original_image = original_image[:8, :8]\n",
    "# convert to grayscale\n",
    "original_image = np.dot(original_image[...,:3], [0.299, 0.587, 0.114])\n",
    "\n",
    "# convert range from 0..1 to int (0..255)\n",
    "original_image *= 255\n",
    "original_image = np.rint(original_image)\n",
    "original_image = original_image.astype(int)\n",
    "\n",
    "fig, ax = plt.subplots()\n",
    "ax.imshow(original_image, cmap=\"gray\")\n",
    "print(np.matrix(original_image))"
   ],
   "metadata": {
    "collapsed": false
   }
  },
  {
   "cell_type": "markdown",
   "source": [
    "## Step 4\n",
    "### Apply dct"
   ],
   "metadata": {
    "collapsed": false
   }
  },
  {
   "cell_type": "code",
   "execution_count": 4,
   "outputs": [],
   "source": [
    "trans = block_dct2(original_image - 128, block_size)"
   ],
   "metadata": {
    "collapsed": false
   }
  },
  {
   "cell_type": "code",
   "execution_count": 5,
   "outputs": [
    {
     "name": "stdout",
     "output_type": "stream",
     "text": [
      "data after dct:\n",
      " [[ 22.716  29.113  26.342  11.589 -44.815 -28.815  -9.226   4.734]\n",
      " [ 20.53   30.835  25.829   7.534 -48.093 -29.547 -10.505   3.943]\n",
      " [ 22.656  35.618  23.6     3.84  -48.818 -30.466 -10.235   3.203]\n",
      " [ 31.889  16.015  14.804  11.468 -52.689 -31.663  -8.349   4.183]\n",
      " [ 28.108 -18.873   8.607  16.374 -58.148 -29.66  -10.229   2.02 ]\n",
      " [-11.483 -33.224  15.697  17.038 -53.131 -27.986  -8.906   3.49 ]\n",
      " [-28.961 -38.285  16.25   17.834 -52.622 -28.813  -8.845   3.296]\n",
      " [-28.803 -39.434  14.458  18.613 -54.557 -27.923  -6.082   9.098]]\n"
     ]
    },
    {
     "data": {
      "text/plain": "<Figure size 640x480 with 1 Axes>",
      "image/png": "[encoded data removed]"
     },
     "metadata": {},
     "output_type": "display_data"
    }
   ],
   "source": [
    "print(\"data after dct:\\n\", np.round(trans,3))\n",
    "fig, ax = plt.subplots()\n",
    "ax.imshow(trans, cmap=\"gray\")\n",
    "plt.show()"
   ],
   "metadata": {
    "collapsed": false
   }
  },
  {
   "cell_type": "markdown",
   "source": [
    "## Step 5\n",
    "### Quantization\n"
   ],
   "metadata": {
    "collapsed": false
   }
  },
  {
   "cell_type": "code",
   "execution_count": 6,
   "outputs": [],
   "source": [
    "quantization_table = get_quantization_matrix_for_quality_percent(quantization_table_quality)\n",
    "\n",
    "quantized = quantize([trans], quantization_table)"
   ],
   "metadata": {
    "collapsed": false
   }
  },
  {
   "cell_type": "code",
   "execution_count": 7,
   "outputs": [
    {
     "name": "stdout",
     "output_type": "stream",
     "text": [
      "quantization_table (quality: 50%): \n",
      " [[ 16  11  10  16  24  40  51  61]\n",
      " [ 12  12  14  19  26  58  60  55]\n",
      " [ 14  13  16  24  40  57  69  56]\n",
      " [ 14  17  22  29  51  87  80  62]\n",
      " [ 18  22  37  56  68 109 103  77]\n",
      " [ 24  35  55  64  81 104 113  92]\n",
      " [ 49  64  78  87 103 121 120 101]\n",
      " [ 72  92  95  98 112 100 103  99]]\n",
      "data after quantization:\n",
      " [[ 1.  3.  3.  1. -2. -1. -0.  0.]\n",
      " [ 2.  3.  2.  0. -2. -1. -0.  0.]\n",
      " [ 2.  3.  1.  0. -1. -1. -0.  0.]\n",
      " [ 2.  1.  1.  0. -1. -0. -0.  0.]\n",
      " [ 2. -1.  0.  0. -1. -0. -0.  0.]\n",
      " [-0. -1.  0.  0. -1. -0. -0.  0.]\n",
      " [-1. -1.  0.  0. -1. -0. -0.  0.]\n",
      " [-0. -0.  0.  0. -0. -0. -0.  0.]]\n"
     ]
    },
    {
     "data": {
      "text/plain": "<Figure size 640x480 with 1 Axes>",
      "image/png": "[encoded data removed]"
     },
     "metadata": {},
     "output_type": "display_data"
    }
   ],
   "source": [
    "print(f\"quantization_table (quality: {quantization_table_quality}%): \\n\", quantization_table)\n",
    "print(\"data after quantization:\\n\", quantized[0])\n",
    "fig, ax = plt.subplots()\n",
    "ax.imshow(quantized[0], cmap=\"gray\")\n",
    "plt.show()"
   ],
   "metadata": {
    "collapsed": false
   }
  },
  {
   "cell_type": "markdown",
   "source": [
    "## Step 6 + 7\n",
    "### Reordering of values, Run Length Encoding"
   ],
   "metadata": {
    "collapsed": false
   }
  },
  {
   "cell_type": "code",
   "execution_count": 8,
   "outputs": [
    {
     "name": "stdout",
     "output_type": "stream",
     "text": [
      "[(1.0, 1), (3.0, 1), (2.0, 2), (3.0, 2), (1.0, 1), (2.0, 1), (3.0, 1), (2.0, 2), (1.0, 2), (0.0, 1), (-2.0, 1), (-1.0, 1), (-2.0, 1), (0.0, 1), (1.0, 1), (-1.0, 1), (-0.0, 1), (-1.0, 2), (0.0, 2), (-1.0, 2), (-0.0, 3), (-1.0, 2), (0.0, 2), (-1.0, 1), (-0.0, 4), (-1.0, 1), (-0.0, 6), (-1.0, 1), (0.0, 3), (-1.0, 1), (-0.0, 13)]\n",
      "[1.0, 1, 3.0, 1, 2.0, 2, 3.0, 2, 1.0, 1, 2.0, 1, 3.0, 1, 2.0, 2, 1.0, 2, 0.0, 1, -2.0, 1, -1.0, 1, -2.0, 1, 0.0, 1, 1.0, 1, -1.0, 1, -0.0, 1, -1.0, 2, 0.0, 2, -1.0, 2, -0.0, 3, -1.0, 2, 0.0, 2, -1.0, 1, -0.0, 4, -1.0, 1, -0.0, 6, -1.0, 1, 0.0, 3, -1.0, 1, -0.0, 13]\n"
     ]
    }
   ],
   "source": [
    "resorted = resort_values_zig_zag(quantized, block_size)\n",
    "encoded_blocks = run_length_encode(resorted)\n",
    "rl_encoded = flatten(encoded_blocks)\n",
    "\n",
    "print(encoded_blocks)\n",
    "print(rl_encoded)"
   ],
   "metadata": {
    "collapsed": false
   }
  },
  {
   "cell_type": "markdown",
   "source": [
    "## Step 8\n",
    "### Huffman Encoding"
   ],
   "metadata": {
    "collapsed": false
   }
  },
  {
   "cell_type": "code",
   "execution_count": 9,
   "outputs": [],
   "source": [
    "huffman_code = generate_huffman_code(rl_encoded)\n",
    "huff_encoded = encode_huffman(huffman_code, rl_encoded)\n"
   ],
   "metadata": {
    "collapsed": false
   }
  },
  {
   "cell_type": "code",
   "execution_count": 10,
   "outputs": [
    {
     "name": "stdout",
     "output_type": "stream",
     "text": [
      "{3.0: '111', 4: '11011', 6: '11010', 13: '11001', -2.0: '11000', 2.0: '10', -1.0: '011', 0.0: '010', 1.0: '00'}\n",
      "0000111001010111100000100011100101000100100011000000110011000000100000000110001000011100101001110010111011100101001100010110110110001011010011000101110110001011001\n"
     ]
    }
   ],
   "source": [
    "print(huffman_code)\n",
    "print(huff_encoded)"
   ],
   "metadata": {
    "collapsed": false
   }
  },
  {
   "cell_type": "markdown",
   "source": [
    "## Step 11\n",
    "### Decode Huffman"
   ],
   "metadata": {
    "collapsed": false
   }
  },
  {
   "cell_type": "code",
   "execution_count": 11,
   "outputs": [
    {
     "name": "stdout",
     "output_type": "stream",
     "text": [
      "[1.0, 1.0, 3.0, 1.0, 2.0, 2.0, 3.0, 2.0, 1.0, 1.0, 2.0, 1.0, 3.0, 1.0, 2.0, 2.0, 1.0, 2.0, 0.0, 1.0, -2.0, 1.0, -1.0, 1.0, -2.0, 1.0, 0.0, 1.0, 1.0, 1.0, -1.0, 1.0, 0.0, 1.0, -1.0, 2.0, 0.0, 2.0, -1.0, 2.0, 0.0, 3.0, -1.0, 2.0, 0.0, 2.0, -1.0, 1.0, 0.0, 4, -1.0, 1.0, 0.0, 6, -1.0, 1.0, 0.0, 3.0, -1.0, 1.0, 0.0, 13]\n"
     ]
    }
   ],
   "source": [
    "rl_encoded = decode_huffman(huff_encoded, huffman_code)\n",
    "print(rl_encoded)"
   ],
   "metadata": {
    "collapsed": false
   }
  },
  {
   "cell_type": "markdown",
   "source": [
    "## Step 12 + 13\n",
    "### Decode run-length encoding + Reordering of values"
   ],
   "metadata": {
    "collapsed": false
   }
  },
  {
   "cell_type": "code",
   "execution_count": 12,
   "outputs": [
    {
     "name": "stdout",
     "output_type": "stream",
     "text": [
      "[[ 1.  3.  3.  1. -2. -1.  0.  0.]\n",
      " [ 2.  3.  2.  0. -2. -1.  0.  0.]\n",
      " [ 2.  3.  1.  0. -1. -1.  0.  0.]\n",
      " [ 2.  1.  1.  0. -1.  0.  0.  0.]\n",
      " [ 2. -1.  0.  0. -1.  0.  0.  0.]\n",
      " [ 0. -1.  0.  0. -1.  0.  0.  0.]\n",
      " [-1. -1.  0.  0. -1.  0.  0.  0.]\n",
      " [ 0.  0.  0.  0.  0.  0.  0.  0.]]\n"
     ]
    }
   ],
   "source": [
    "un_flattened = un_flatten(rl_encoded)\n",
    "block_zig_zag = run_length_decode(un_flattened)\n",
    "block = resort_values_zig_zag_reverse(block_zig_zag, block_size)\n",
    "\n",
    "print(block)"
   ],
   "metadata": {
    "collapsed": false
   }
  },
  {
   "cell_type": "markdown",
   "source": [
    "## Step 14\n",
    "### Apply inverse quantization"
   ],
   "metadata": {
    "collapsed": false
   }
  },
  {
   "cell_type": "code",
   "execution_count": 13,
   "outputs": [
    {
     "name": "stdout",
     "output_type": "stream",
     "text": [
      "data after inverse quantization:\n",
      " [[  16.   33.   30.   16.  -48.  -40.    0.    0.]\n",
      " [  24.   36.   28.    0.  -52.  -58.    0.    0.]\n",
      " [  28.   39.   16.    0.  -40.  -57.    0.    0.]\n",
      " [  28.   17.   22.    0.  -51.    0.    0.    0.]\n",
      " [  36.  -22.    0.    0.  -68.    0.    0.    0.]\n",
      " [   0.  -35.    0.    0.  -81.    0.    0.    0.]\n",
      " [ -49.  -64.    0.    0. -103.    0.    0.    0.]\n",
      " [   0.    0.    0.    0.    0.    0.    0.    0.]]\n"
     ]
    },
    {
     "data": {
      "text/plain": "<Figure size 640x480 with 1 Axes>",
      "image/png": "[encoded data removed]"
     },
     "metadata": {},
     "output_type": "display_data"
    }
   ],
   "source": [
    "iq = quantize_inverse([block], quantization_table)\n",
    "print(\"data after inverse quantization:\\n\", iq[0])\n",
    "fig, ax = plt.subplots()\n",
    "ax.imshow(iq[0], cmap=\"gray\")\n",
    "plt.show()"
   ],
   "metadata": {
    "collapsed": false
   }
  },
  {
   "cell_type": "markdown",
   "source": [
    "## Step 15\n",
    "### Apply inverse DCT"
   ],
   "metadata": {
    "collapsed": false
   }
  },
  {
   "cell_type": "code",
   "execution_count": 14,
   "outputs": [],
   "source": [
    "inverse_dct = block_idct2(iq[0], block_size) + 128"
   ],
   "metadata": {
    "collapsed": false
   }
  },
  {
   "cell_type": "code",
   "execution_count": 15,
   "outputs": [
    {
     "name": "stdout",
     "output_type": "stream",
     "text": [
      "data after inverse dct:\n",
      " [[152.53 162.15 167.21 154.91  94.09  95.43 117.74 120.3 ]\n",
      " [162.58 167.37 164.9  144.87  93.18  75.69 113.67 114.68]\n",
      " [168.25 165.3  151.18 146.64 102.02  77.72 115.22 115.87]\n",
      " [159.52 142.94 163.14 126.11  87.24 126.58 122.22 125.57]\n",
      " [159.7  100.   157.01 118.51  69.48 120.53 116.17 120.08]\n",
      " [123.01  97.75 155.66 117.74  54.04 118.45 111.03 116.77]\n",
      " [ 69.9   84.69 157.19 113.98  29.54 113.92 102.98 111.02]\n",
      " [128.   128.   128.   128.   128.   128.   128.   128.  ]]\n"
     ]
    },
    {
     "data": {
      "text/plain": "<Figure size 640x480 with 1 Axes>",
      "image/png": "[encoded data removed]"
     },
     "metadata": {},
     "output_type": "display_data"
    }
   ],
   "source": [
    "print(\"data after inverse dct:\\n\", np.round(inverse_dct,2))\n",
    "\n",
    "fig, ax = plt.subplots()\n",
    "ax.imshow(inverse_dct, cmap=\"gray\")\n",
    "plt.show()"
   ],
   "metadata": {
    "collapsed": false
   }
  },
  {
   "cell_type": "code",
   "execution_count": 16,
   "outputs": [
    {
     "name": "stdout",
     "output_type": "stream",
     "text": [
      "data after inverse dct (rounded to int & clipped to range 0..255):\n",
      " [[153. 162. 167. 155.  94.  95. 118. 120.]\n",
      " [163. 167. 165. 145.  93.  76. 114. 115.]\n",
      " [168. 165. 151. 147. 102.  78. 115. 116.]\n",
      " [160. 143. 163. 126.  87. 127. 122. 126.]\n",
      " [160. 100. 157. 119.  69. 121. 116. 120.]\n",
      " [123.  98. 156. 118.  54. 118. 111. 117.]\n",
      " [ 70.  85. 157. 114.  30. 114. 103. 111.]\n",
      " [128. 128. 128. 128. 128. 128. 128. 128.]]\n"
     ]
    },
    {
     "data": {
      "text/plain": "<Figure size 640x480 with 1 Axes>",
      "image/png": "[encoded data removed]"
     },
     "metadata": {},
     "output_type": "display_data"
    }
   ],
   "source": [
    "inverse_dct_ints = np.clip(np.rint(inverse_dct), a_min=0, a_max=255)\n",
    "print(\"data after inverse dct (rounded to int & clipped to range 0..255):\\n\", np.round(inverse_dct_ints,2))\n",
    "\n",
    "fig, ax = plt.subplots()\n",
    "ax.imshow(inverse_dct_ints, cmap=\"gray\")\n",
    "plt.show()"
   ],
   "metadata": {
    "collapsed": false
   }
  },
  {
   "cell_type": "code",
   "execution_count": 17,
   "outputs": [
    {
     "name": "stdout",
     "output_type": "stream",
     "text": [
      "original_image:\n",
      " [[158 156 165 147  98 106 110 124]\n",
      " [157 159 164 144  95 105 108 122]\n",
      " [161 163 161 142  94 104 108 121]\n",
      " [165 139 161 145  90 101 108 121]\n",
      " [152 106 164 142  85 100 105 116]\n",
      " [109 105 164 141  87 100 105 117]\n",
      " [ 91 105 162 142  86  99 104 116]\n",
      " [ 91 103 161 142  83  98 104 122]]\n"
     ]
    },
    {
     "data": {
      "text/plain": "<Figure size 640x480 with 1 Axes>",
      "image/png": "[encoded data removed]"
     },
     "metadata": {},
     "output_type": "display_data"
    }
   ],
   "source": [
    "# just for comparison print again\n",
    "print(\"original_image:\\n\",original_image)\n",
    "fig, ax = plt.subplots()\n",
    "ax.imshow(original_image, cmap=\"gray\")\n",
    "plt.show()"
   ],
   "metadata": {
    "collapsed": false
   }
  }
 ],
 "metadata": {
  "kernelspec": {
   "display_name": "Python 3",
   "language": "python",
   "name": "python3"
  },
  "language_info": {
   "codemirror_mode": {
    "name": "ipython",
    "version": 2
   },
   "file_extension": ".py",
   "mimetype": "text/x-python",
   "name": "python",
   "nbconvert_exporter": "python",
   "pygments_lexer": "ipython2",
   "version": "2.7.6"
  }
 },
 "nbformat": 4,
 "nbformat_minor": 0
}
