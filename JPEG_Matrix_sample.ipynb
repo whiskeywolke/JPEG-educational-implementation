{
 "cells": [
  {
   "cell_type": "code",
   "execution_count": 1,
   "metadata": {
    "collapsed": true
   },
   "outputs": [],
   "source": [
    "from jpeg_implementation.dct import block_dct2, block_idct2\n",
    "from jpeg_implementation.huffman import generate_huffman_code, encode_huffman, decode_huffman\n",
    "from jpeg_implementation.quantization import quantize, quantize_inverse, \\\n",
    "    get_quantization_matrix_for_quality_percent\n",
    "from jpeg_implementation.rgbToYuv import rgb_to_yuv, yuv_to_rgb\n",
    "from jpeg_implementation.runLengthEncode import resort_and_run_length_encode, unsort_and_run_length_decode, \\\n",
    "    resort_values_zig_zag, run_length_encode, flatten, resort_values_zig_zag_reverse, run_length_decode, un_flatten\n",
    "from jpeg_implementation.splitBlocks import split, merge_blocks\n",
    "from jpeg_implementation.subsample import subsample_u_v, calculate_down_sampled_resolution, up_sample_u_v\n",
    "from jpeg_implementation.serialize import store_as_file\n",
    "from jpeg_implementation.EasyJpeg import EasyJpeg\n",
    "\n",
    "import os.path\n",
    "import numpy as np\n",
    "import matplotlib.pyplot as plt\n",
    "import matplotlib.colors\n",
    "from typing import Tuple"
   ]
  },
  {
   "cell_type": "code",
   "execution_count": 2,
   "outputs": [],
   "source": [
    "def plot_y_u_v(y_loc, u_loc, v_loc, colormap=True):\n",
    "    fig_loc, ax_loc = plt.subplots(1, 3, figsize=(15, 20))\n",
    "    ax_loc[0].imshow(y_loc, cmap=\"gray\")\n",
    "    ax_loc[0].set_title(\"Y Component\")\n",
    "\n",
    "    # creating a linear colormap, based on the values of the example https://commons.wikimedia.org/wiki/File:Barn-yuv.png\n",
    "    if colormap:\n",
    "        cmap_u = matplotlib.colors.LinearSegmentedColormap.from_list(\"\", [(0, 177 / 255, 78 / 255, 1),\n",
    "                                                                          (0, 86 / 255, 169 / 255, 1)])\n",
    "    else:\n",
    "        cmap_u = matplotlib.colormaps[\"gray\"]\n",
    "    ax_loc[1].imshow(u_loc, cmap=cmap_u)\n",
    "    ax_loc[1].set_title(\"U Component\")\n",
    "\n",
    "    if colormap:\n",
    "        cmap_v = matplotlib.colors.LinearSegmentedColormap.from_list(\"\", [(104 / 255, 151 / 255, 0, 1),\n",
    "                                                                          (171 / 255, 84 / 255, 0)])\n",
    "    else:\n",
    "        cmap_v = matplotlib.colormaps[\"gray\"]\n",
    "    ax_loc[2].imshow(v_loc, cmap=cmap_v)\n",
    "    ax_loc[2].set_title(\"V Component\")\n",
    "    plt.show()"
   ],
   "metadata": {
    "collapsed": false
   }
  },
  {
   "cell_type": "code",
   "execution_count": 3,
   "outputs": [],
   "source": [
    "images = {\n",
    "    \"christmas_tree_6000x4000\": \"images/christmas_tree_6000x4000.png\",\n",
    "    \"christmas_tree_600x400\": \"images/christmas_tree_600x400.png\",\n",
    "    \"christmas_tree_194x129\": \"images/christmas_tree_194x129.png\",\n",
    "    \"Barns_grand_tetons_1600x1195\": \"images/Barns_grand_tetons_1600x1195.png\",\n",
    "    \"lenna_512x512\": \"images/lenna_512x512.png\",\n",
    "    \"lenna_256x256\": \"images/lenna_256x256.png\",\n",
    "    \"lenna_128x128\": \"images/lenna_128x128.png\",\n",
    "    \"lenna_64x64\": \"images/lenna_64x64.png\",\n",
    "    \"lenna_32x32\": \"images/lenna_32x32.png\",\n",
    "}"
   ],
   "metadata": {
    "collapsed": false
   }
  },
  {
   "cell_type": "code",
   "execution_count": 4,
   "outputs": [],
   "source": [
    "# image which should be encoded\n",
    "image_path = images[\"lenna_32x32\"]\n",
    "\n",
    "# jpeg parameters\n",
    "block_size: int = 8\n",
    "subsampling_settings: Tuple[int, int, int] = (4, 2, 0)  # can be (4,1,0), (4,1,1), (4,2,0), (4,2,2), (4,4,4)\n",
    "quantization_table_quality: int = 70  # percentage of quantization quality 0..100"
   ],
   "metadata": {
    "collapsed": false
   }
  },
  {
   "cell_type": "code",
   "execution_count": 5,
   "outputs": [
    {
     "name": "stdout",
     "output_type": "stream",
     "text": [
      "[[158 156 165 147  98 106 110 124]\n",
      " [157 159 164 144  95 105 108 122]\n",
      " [161 163 161 142  94 104 108 121]\n",
      " [165 139 161 145  90 101 108 121]\n",
      " [152 106 164 142  85 100 105 116]\n",
      " [109 105 164 141  87 100 105 117]\n",
      " [ 91 105 162 142  86  99 104 116]\n",
      " [ 91 103 161 142  83  98 104 122]]\n"
     ]
    },
    {
     "data": {
      "text/plain": "<Figure size 640x480 with 1 Axes>",
      "image/png": "[encoded data removed]"
     },
     "metadata": {},
     "output_type": "display_data"
    }
   ],
   "source": [
    "original_image = plt.imread(image_path)\n",
    "\n",
    "\n",
    "\n",
    "# strip alpha channel if exists\n",
    "if original_image.shape[2] == 4:\n",
    "    channels = np.dsplit(original_image, 4)\n",
    "    original_image = np.dstack(channels[:3])\n",
    "# select only 8x8 matrix\n",
    "original_image = original_image[:8, :8]\n",
    "# convert to grayscale\n",
    "original_image = np.dot(original_image[...,:3], [0.299, 0.587, 0.114])\n",
    "\n",
    "# make image with 3 dimensions for compability\n",
    "#original_image = np.dstack([original_image, original_image, original_image])\n",
    "\n",
    "# convert range from 0..1 to int (0..255)\n",
    "original_image *= 255\n",
    "original_image = np.rint(original_image)\n",
    "original_image = original_image.astype(int)\n",
    "\n",
    "original_image_resolution = tuple(reversed(original_image.shape[:2]))\n",
    "\n",
    "#matrix_image = np.dsplit(original_image,3)[0].reshape(8,8)\n",
    "\n",
    "fig, ax = plt.subplots()\n",
    "ax.imshow(original_image, cmap=\"gray\")\n",
    "print(np.matrix(original_image))"
   ],
   "metadata": {
    "collapsed": false
   }
  },
  {
   "cell_type": "markdown",
   "source": [
    "## Step 4\n",
    "### Apply dct"
   ],
   "metadata": {
    "collapsed": false
   }
  },
  {
   "cell_type": "code",
   "execution_count": 6,
   "outputs": [],
   "source": [
    "trans = block_dct2(original_image - 128, block_size)"
   ],
   "metadata": {
    "collapsed": false
   }
  },
  {
   "cell_type": "code",
   "execution_count": 7,
   "outputs": [
    {
     "name": "stdout",
     "output_type": "stream",
     "text": [
      "[[ 22.716  29.113  26.342  11.589 -44.815 -28.815  -9.226   4.734]\n",
      " [ 20.53   30.835  25.829   7.534 -48.093 -29.547 -10.505   3.943]\n",
      " [ 22.656  35.618  23.6     3.84  -48.818 -30.466 -10.235   3.203]\n",
      " [ 31.889  16.015  14.804  11.468 -52.689 -31.663  -8.349   4.183]\n",
      " [ 28.108 -18.873   8.607  16.374 -58.148 -29.66  -10.229   2.02 ]\n",
      " [-11.483 -33.224  15.697  17.038 -53.131 -27.986  -8.906   3.49 ]\n",
      " [-28.961 -38.285  16.25   17.834 -52.622 -28.813  -8.845   3.296]\n",
      " [-28.803 -39.434  14.458  18.613 -54.557 -27.923  -6.082   9.098]]\n"
     ]
    }
   ],
   "source": [
    "print(np.round(trans,3))"
   ],
   "metadata": {
    "collapsed": false
   }
  },
  {
   "cell_type": "markdown",
   "source": [
    "## Step 5\n",
    "### Quantization\n"
   ],
   "metadata": {
    "collapsed": false
   }
  },
  {
   "cell_type": "code",
   "execution_count": 8,
   "outputs": [
    {
     "name": "stdout",
     "output_type": "stream",
     "text": [
      "[[ 2.  4.  4.  1. -3. -1. -0.  0.]\n",
      " [ 3.  4.  3.  1. -3. -1. -0.  0.]\n",
      " [ 3.  4.  2.  0. -2. -1. -0.  0.]\n",
      " [ 4.  2.  1.  1. -2. -1. -0.  0.]\n",
      " [ 3. -1.  0.  0. -1. -0. -0.  0.]\n",
      " [-1. -2.  0.  0. -1. -0. -0.  0.]\n",
      " [-1. -1.  0.  0. -1. -0. -0.  0.]\n",
      " [-1. -1.  0.  0. -1. -0. -0.  0.]]\n"
     ]
    }
   ],
   "source": [
    "quantization_table = get_quantization_matrix_for_quality_percent(quantization_table_quality)\n",
    "\n",
    "quantized = quantize([trans], quantization_table)\n",
    "\n",
    "print(quantized[0])"
   ],
   "metadata": {
    "collapsed": false
   }
  },
  {
   "cell_type": "markdown",
   "source": [
    "## Step 6\n",
    "### Reordering of values, Run Length Encoding"
   ],
   "metadata": {
    "collapsed": false
   }
  },
  {
   "cell_type": "code",
   "execution_count": 9,
   "outputs": [
    {
     "name": "stdout",
     "output_type": "stream",
     "text": [
      "[(2.0, 1), (4.0, 1), (3.0, 2), (4.0, 2), (1.0, 1), (3.0, 1), (4.0, 2), (3.0, 1), (2.0, 2), (1.0, 1), (-3.0, 1), (-1.0, 1), (-3.0, 1), (0.0, 1), (1.0, 1), (-1.0, 3), (-2.0, 1), (0.0, 1), (1.0, 1), (-2.0, 1), (-1.0, 1), (-0.0, 3), (-1.0, 1), (-2.0, 1), (0.0, 2), (-1.0, 3), (0.0, 2), (-1.0, 2), (-0.0, 5), (-1.0, 1), (0.0, 3), (-1.0, 1), (-0.0, 6), (-1.0, 1), (-0.0, 6)]\n",
      "[2.0, 1, 4.0, 1, 3.0, 2, 4.0, 2, 1.0, 1, 3.0, 1, 4.0, 2, 3.0, 1, 2.0, 2, 1.0, 1, -3.0, 1, -1.0, 1, -3.0, 1, 0.0, 1, 1.0, 1, -1.0, 3, -2.0, 1, 0.0, 1, 1.0, 1, -2.0, 1, -1.0, 1, -0.0, 3, -1.0, 1, -2.0, 1, 0.0, 2, -1.0, 3, 0.0, 2, -1.0, 2, -0.0, 5, -1.0, 1, 0.0, 3, -1.0, 1, -0.0, 6, -1.0, 1, -0.0, 6]\n"
     ]
    }
   ],
   "source": [
    "resorted = resort_values_zig_zag(quantized, block_size)\n",
    "encoded_blocks = run_length_encode(resorted)\n",
    "rl_encoded = flatten(encoded_blocks)\n",
    "\n",
    "print(encoded_blocks)\n",
    "print(rl_encoded)"
   ],
   "metadata": {
    "collapsed": false
   }
  },
  {
   "cell_type": "markdown",
   "source": [
    "## Step 7\n",
    "### Huffman Encoding"
   ],
   "metadata": {
    "collapsed": false
   }
  },
  {
   "cell_type": "code",
   "execution_count": 10,
   "outputs": [],
   "source": [
    "huffman_code = generate_huffman_code(rl_encoded)\n",
    "huff_encoded = encode_huffman(huffman_code, rl_encoded)\n"
   ],
   "metadata": {
    "collapsed": false
   }
  },
  {
   "cell_type": "code",
   "execution_count": 11,
   "outputs": [
    {
     "name": "stdout",
     "output_type": "stream",
     "text": [
      "{6: '1111', 4.0: '1110', -2.0: '1101', 5: '11001', -3.0: '11000', 3.0: '101', 2.0: '100', -1.0: '011', 0.0: '010', 1: '00'}\n",
      "1000011100010110011101000000101001110100101001001000000110000001100110000001000000001110111010001000000011010001100010101011001101000101000111010101000111000101100101100010101011000101111011000101111\n"
     ]
    }
   ],
   "source": [
    "print(huffman_code)\n",
    "print(huff_encoded)"
   ],
   "metadata": {
    "collapsed": false
   }
  },
  {
   "cell_type": "markdown",
   "source": [
    "## Step 10\n",
    "### Decode Huffman"
   ],
   "metadata": {
    "collapsed": false
   }
  },
  {
   "cell_type": "code",
   "execution_count": 12,
   "outputs": [
    {
     "name": "stdout",
     "output_type": "stream",
     "text": [
      "[2.0, 1, 4.0, 1, 3.0, 2.0, 4.0, 2.0, 1, 1, 3.0, 1, 4.0, 2.0, 3.0, 1, 2.0, 2.0, 1, 1, -3.0, 1, -1.0, 1, -3.0, 1, 0.0, 1, 1, 1, -1.0, 3.0, -2.0, 1, 0.0, 1, 1, 1, -2.0, 1, -1.0, 1, 0.0, 3.0, -1.0, 1, -2.0, 1, 0.0, 2.0, -1.0, 3.0, 0.0, 2.0, -1.0, 2.0, 0.0, 5, -1.0, 1, 0.0, 3.0, -1.0, 1, 0.0, 6, -1.0, 1, 0.0, 6]\n"
     ]
    }
   ],
   "source": [
    "rl_encoded = decode_huffman(huff_encoded, huffman_code)\n",
    "print(rl_encoded)"
   ],
   "metadata": {
    "collapsed": false
   }
  },
  {
   "cell_type": "markdown",
   "source": [
    "## Step 11\n",
    "### Decode run-length encoding + Reordering of values"
   ],
   "metadata": {
    "collapsed": false
   }
  },
  {
   "cell_type": "code",
   "execution_count": 15,
   "outputs": [
    {
     "name": "stdout",
     "output_type": "stream",
     "text": [
      "[[ 2.  4.  4.  1. -3. -1.  0.  0.]\n",
      " [ 3.  4.  3.  1. -3. -1.  0.  0.]\n",
      " [ 3.  4.  2.  0. -2. -1.  0.  0.]\n",
      " [ 4.  2.  1.  1. -2. -1.  0.  0.]\n",
      " [ 3. -1.  0.  0. -1.  0.  0.  0.]\n",
      " [-1. -2.  0.  0. -1.  0.  0.  0.]\n",
      " [-1. -1.  0.  0. -1.  0.  0.  0.]\n",
      " [-1. -1.  0.  0. -1.  0.  0.  0.]]\n"
     ]
    }
   ],
   "source": [
    "un_flattened = un_flatten(rl_encoded)\n",
    "block_zig_zag = run_length_decode(un_flattened)\n",
    "block = resort_values_zig_zag_reverse(block_zig_zag, block_size)\n",
    "\n",
    "print(block)"
   ],
   "metadata": {
    "collapsed": false
   }
  },
  {
   "cell_type": "markdown",
   "source": [
    "## Step 12\n",
    "### Apply inverse quantization"
   ],
   "metadata": {
    "collapsed": false
   }
  },
  {
   "cell_type": "code",
   "execution_count": 17,
   "outputs": [
    {
     "name": "stdout",
     "output_type": "stream",
     "text": [
      "[[[ 20.  28.  24.  10. -42. -24.   0.   0.]\n",
      "  [ 21.  28.  24.  11. -48. -35.   0.   0.]\n",
      "  [ 24.  32.  20.   0. -48. -34.   0.   0.]\n",
      "  [ 32.  20.  13.  17. -62. -52.   0.   0.]\n",
      "  [ 33. -13.   0.   0. -41.   0.   0.   0.]\n",
      "  [-14. -42.   0.   0. -49.   0.   0.   0.]\n",
      "  [-29. -38.   0.   0. -62.   0.   0.   0.]\n",
      "  [-43. -55.   0.   0. -67.   0.   0.   0.]]]\n"
     ]
    }
   ],
   "source": [
    "iq = quantize_inverse([block], quantization_table)\n",
    "print(iq)"
   ],
   "metadata": {
    "collapsed": false
   }
  },
  {
   "cell_type": "markdown",
   "source": [
    "## Step 13\n",
    "### Apply inverse DCT"
   ],
   "metadata": {
    "collapsed": false
   }
  },
  {
   "cell_type": "code",
   "execution_count": 27,
   "outputs": [
    {
     "name": "stdout",
     "output_type": "stream",
     "text": [
      "[[154.929 154.925 160.841 144.643  97.318 108.617 120.668 123.156]\n",
      " [156.608 155.409 162.876 148.141  93.121  98.329 117.843 120.302]\n",
      " [161.573 159.465 157.159 138.803  92.537  97.486 117.282 119.498]\n",
      " [167.518 142.46  161.553 156.232  81.218  81.945 111.973 114.962]\n",
      " [157.746 108.474 147.719 121.538  93.935 123.411 121.587 123.559]\n",
      " [105.509  94.757 146.083 118.028  82.734 119.749 116.489 119.395]\n",
      " [ 93.651 102.272 145.563 119.646  68.761 119.588 112.981 117.83 ]\n",
      " [ 75.71   90.782 147.42  116.615  63.385 117.278 110.789 115.734]]\n"
     ]
    },
    {
     "data": {
      "text/plain": "<matplotlib.image.AxesImage at 0x14703eebfa0>"
     },
     "execution_count": 27,
     "metadata": {},
     "output_type": "execute_result"
    },
    {
     "data": {
      "text/plain": "<Figure size 640x480 with 1 Axes>",
      "image/png": "[encoded data removed]"
     },
     "metadata": {},
     "output_type": "display_data"
    }
   ],
   "source": [
    "id = block_idct2(iq[0], block_size) + 128\n",
    "print(np.round(id,3))\n",
    "\n",
    "fig, ax = plt.subplots()\n",
    "ax.imshow(id, cmap=\"gray\")"
   ],
   "metadata": {
    "collapsed": false
   }
  },
  {
   "cell_type": "code",
   "execution_count": 28,
   "outputs": [
    {
     "name": "stdout",
     "output_type": "stream",
     "text": [
      "[[158 156 165 147  98 106 110 124]\n",
      " [157 159 164 144  95 105 108 122]\n",
      " [161 163 161 142  94 104 108 121]\n",
      " [165 139 161 145  90 101 108 121]\n",
      " [152 106 164 142  85 100 105 116]\n",
      " [109 105 164 141  87 100 105 117]\n",
      " [ 91 105 162 142  86  99 104 116]\n",
      " [ 91 103 161 142  83  98 104 122]]\n"
     ]
    },
    {
     "data": {
      "text/plain": "<matplotlib.image.AxesImage at 0x147041173d0>"
     },
     "execution_count": 28,
     "metadata": {},
     "output_type": "execute_result"
    },
    {
     "data": {
      "text/plain": "<Figure size 640x480 with 1 Axes>",
      "image/png": "[encoded data removed]"
     },
     "metadata": {},
     "output_type": "display_data"
    }
   ],
   "source": [
    "print(original_image)\n",
    "fig, ax = plt.subplots()\n",
    "ax.imshow(original_image, cmap=\"gray\")"
   ],
   "metadata": {
    "collapsed": false
   }
  }
 ],
 "metadata": {
  "kernelspec": {
   "display_name": "Python 3",
   "language": "python",
   "name": "python3"
  },
  "language_info": {
   "codemirror_mode": {
    "name": "ipython",
    "version": 2
   },
   "file_extension": ".py",
   "mimetype": "text/x-python",
   "name": "python",
   "nbconvert_exporter": "python",
   "pygments_lexer": "ipython2",
   "version": "2.7.6"
  }
 },
 "nbformat": 4,
 "nbformat_minor": 0
}
