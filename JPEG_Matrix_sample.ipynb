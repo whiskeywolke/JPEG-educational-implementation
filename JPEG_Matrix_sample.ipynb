{
 "cells": [
  {
   "cell_type": "code",
   "execution_count": 1,
   "metadata": {
    "collapsed": true
   },
   "outputs": [],
   "source": [
    "from jpeg_implementation.dct import block_dct2, block_idct2\n",
    "from jpeg_implementation.huffman import generate_huffman_code, encode_huffman, decode_huffman\n",
    "from jpeg_implementation.quantization import quantize, quantize_inverse, \\\n",
    "    get_quantization_matrix_for_quality_percent\n",
    "from jpeg_implementation.runLengthEncode import  resort_values_zig_zag, run_length_encode, flatten, resort_values_zig_zag_reverse, run_length_decode, un_flatten\n",
    "\n",
    "import numpy as np\n",
    "import matplotlib.pyplot as plt\n",
    "from typing import Tuple"
   ]
  },
  {
   "cell_type": "code",
   "execution_count": 2,
   "outputs": [],
   "source": [
    "# image which should be encoded\n",
    "image_path = \"images/lenna_32x32.png\"\n",
    "\n",
    "# jpeg parameters\n",
    "block_size: int = 8\n",
    "subsampling_settings: Tuple[int, int, int] = (4, 2, 0)  # can be (4,1,0), (4,1,1), (4,2,0), (4,2,2), (4,4,4)\n",
    "quantization_table_quality: int = 70  # percentage of quantization quality 0..100"
   ],
   "metadata": {
    "collapsed": false
   }
  },
  {
   "cell_type": "code",
   "execution_count": 3,
   "outputs": [
    {
     "name": "stdout",
     "output_type": "stream",
     "text": [
      "[[158 156 165 147  98 106 110 124]\n",
      " [157 159 164 144  95 105 108 122]\n",
      " [161 163 161 142  94 104 108 121]\n",
      " [165 139 161 145  90 101 108 121]\n",
      " [152 106 164 142  85 100 105 116]\n",
      " [109 105 164 141  87 100 105 117]\n",
      " [ 91 105 162 142  86  99 104 116]\n",
      " [ 91 103 161 142  83  98 104 122]]\n"
     ]
    },
    {
     "data": {
      "text/plain": "<Figure size 640x480 with 1 Axes>",
      "image/png": "[encoded data removed]"
     },
     "metadata": {},
     "output_type": "display_data"
    }
   ],
   "source": [
    "original_image = plt.imread(image_path)\n",
    "\n",
    "# strip alpha channel if exists\n",
    "if original_image.shape[2] == 4:\n",
    "    channels = np.dsplit(original_image, 4)\n",
    "    original_image = np.dstack(channels[:3])\n",
    "\n",
    "# select only 8x8 matrix\n",
    "original_image = original_image[:8, :8]\n",
    "# convert to grayscale\n",
    "original_image = np.dot(original_image[...,:3], [0.299, 0.587, 0.114])\n",
    "\n",
    "# convert range from 0..1 to int (0..255)\n",
    "original_image *= 255\n",
    "original_image = np.rint(original_image)\n",
    "original_image = original_image.astype(int)\n",
    "\n",
    "fig, ax = plt.subplots()\n",
    "ax.imshow(original_image, cmap=\"gray\")\n",
    "print(np.matrix(original_image))"
   ],
   "metadata": {
    "collapsed": false
   }
  },
  {
   "cell_type": "markdown",
   "source": [
    "## Step 4\n",
    "### Apply dct"
   ],
   "metadata": {
    "collapsed": false
   }
  },
  {
   "cell_type": "code",
   "execution_count": 4,
   "outputs": [],
   "source": [
    "trans = block_dct2(original_image - 128, block_size)"
   ],
   "metadata": {
    "collapsed": false
   }
  },
  {
   "cell_type": "code",
   "execution_count": 5,
   "outputs": [
    {
     "name": "stdout",
     "output_type": "stream",
     "text": [
      "data after dct:\n",
      " [[ 22.716  29.113  26.342  11.589 -44.815 -28.815  -9.226   4.734]\n",
      " [ 20.53   30.835  25.829   7.534 -48.093 -29.547 -10.505   3.943]\n",
      " [ 22.656  35.618  23.6     3.84  -48.818 -30.466 -10.235   3.203]\n",
      " [ 31.889  16.015  14.804  11.468 -52.689 -31.663  -8.349   4.183]\n",
      " [ 28.108 -18.873   8.607  16.374 -58.148 -29.66  -10.229   2.02 ]\n",
      " [-11.483 -33.224  15.697  17.038 -53.131 -27.986  -8.906   3.49 ]\n",
      " [-28.961 -38.285  16.25   17.834 -52.622 -28.813  -8.845   3.296]\n",
      " [-28.803 -39.434  14.458  18.613 -54.557 -27.923  -6.082   9.098]]\n"
     ]
    },
    {
     "data": {
      "text/plain": "<Figure size 640x480 with 1 Axes>",
      "image/png": "[encoded data removed]"
     },
     "metadata": {},
     "output_type": "display_data"
    }
   ],
   "source": [
    "print(\"data after dct:\\n\", np.round(trans,3))\n",
    "fig, ax = plt.subplots()\n",
    "ax.imshow(trans, cmap=\"gray\")\n",
    "plt.show()"
   ],
   "metadata": {
    "collapsed": false
   }
  },
  {
   "cell_type": "markdown",
   "source": [
    "## Step 5\n",
    "### Quantization\n"
   ],
   "metadata": {
    "collapsed": false
   }
  },
  {
   "cell_type": "code",
   "execution_count": 6,
   "outputs": [],
   "source": [
    "quantization_table = get_quantization_matrix_for_quality_percent(quantization_table_quality)\n",
    "\n",
    "quantized = quantize([trans], quantization_table)"
   ],
   "metadata": {
    "collapsed": false
   }
  },
  {
   "cell_type": "code",
   "execution_count": 7,
   "outputs": [
    {
     "name": "stdout",
     "output_type": "stream",
     "text": [
      "quantization_table (quality: 70%): \n",
      " [[10.  7.  6. 10. 14. 24. 31. 37.]\n",
      " [ 7.  7.  8. 11. 16. 35. 36. 33.]\n",
      " [ 8.  8. 10. 14. 24. 34. 41. 34.]\n",
      " [ 8. 10. 13. 17. 31. 52. 48. 37.]\n",
      " [11. 13. 22. 34. 41. 65. 62. 46.]\n",
      " [14. 21. 33. 38. 49. 62. 68. 55.]\n",
      " [29. 38. 47. 52. 62. 73. 72. 61.]\n",
      " [43. 55. 57. 59. 67. 60. 62. 59.]]\n",
      "data after quantization:\n",
      " [[ 2.  4.  4.  1. -3. -1. -0.  0.]\n",
      " [ 3.  4.  3.  1. -3. -1. -0.  0.]\n",
      " [ 3.  4.  2.  0. -2. -1. -0.  0.]\n",
      " [ 4.  2.  1.  1. -2. -1. -0.  0.]\n",
      " [ 3. -1.  0.  0. -1. -0. -0.  0.]\n",
      " [-1. -2.  0.  0. -1. -0. -0.  0.]\n",
      " [-1. -1.  0.  0. -1. -0. -0.  0.]\n",
      " [-1. -1.  0.  0. -1. -0. -0.  0.]]\n"
     ]
    },
    {
     "data": {
      "text/plain": "<Figure size 640x480 with 1 Axes>",
      "image/png": "[encoded data removed]"
     },
     "metadata": {},
     "output_type": "display_data"
    }
   ],
   "source": [
    "print(f\"quantization_table (quality: {quantization_table_quality}%): \\n\", quantization_table)\n",
    "print(\"data after quantization:\\n\", quantized[0])\n",
    "fig, ax = plt.subplots()\n",
    "ax.imshow(quantized[0], cmap=\"gray\")\n",
    "plt.show()"
   ],
   "metadata": {
    "collapsed": false
   }
  },
  {
   "cell_type": "markdown",
   "source": [
    "## Step 6\n",
    "### Reordering of values, Run Length Encoding"
   ],
   "metadata": {
    "collapsed": false
   }
  },
  {
   "cell_type": "code",
   "execution_count": 8,
   "outputs": [
    {
     "name": "stdout",
     "output_type": "stream",
     "text": [
      "[(2.0, 1), (4.0, 1), (3.0, 2), (4.0, 2), (1.0, 1), (3.0, 1), (4.0, 2), (3.0, 1), (2.0, 2), (1.0, 1), (-3.0, 1), (-1.0, 1), (-3.0, 1), (0.0, 1), (1.0, 1), (-1.0, 3), (-2.0, 1), (0.0, 1), (1.0, 1), (-2.0, 1), (-1.0, 1), (-0.0, 3), (-1.0, 1), (-2.0, 1), (0.0, 2), (-1.0, 3), (0.0, 2), (-1.0, 2), (-0.0, 5), (-1.0, 1), (0.0, 3), (-1.0, 1), (-0.0, 6), (-1.0, 1), (-0.0, 6)]\n",
      "[2.0, 1, 4.0, 1, 3.0, 2, 4.0, 2, 1.0, 1, 3.0, 1, 4.0, 2, 3.0, 1, 2.0, 2, 1.0, 1, -3.0, 1, -1.0, 1, -3.0, 1, 0.0, 1, 1.0, 1, -1.0, 3, -2.0, 1, 0.0, 1, 1.0, 1, -2.0, 1, -1.0, 1, -0.0, 3, -1.0, 1, -2.0, 1, 0.0, 2, -1.0, 3, 0.0, 2, -1.0, 2, -0.0, 5, -1.0, 1, 0.0, 3, -1.0, 1, -0.0, 6, -1.0, 1, -0.0, 6]\n"
     ]
    }
   ],
   "source": [
    "resorted = resort_values_zig_zag(quantized, block_size)\n",
    "encoded_blocks = run_length_encode(resorted)\n",
    "rl_encoded = flatten(encoded_blocks)\n",
    "\n",
    "print(encoded_blocks)\n",
    "print(rl_encoded)"
   ],
   "metadata": {
    "collapsed": false
   }
  },
  {
   "cell_type": "markdown",
   "source": [
    "## Step 7\n",
    "### Huffman Encoding"
   ],
   "metadata": {
    "collapsed": false
   }
  },
  {
   "cell_type": "code",
   "execution_count": 9,
   "outputs": [],
   "source": [
    "huffman_code = generate_huffman_code(rl_encoded)\n",
    "huff_encoded = encode_huffman(huffman_code, rl_encoded)\n"
   ],
   "metadata": {
    "collapsed": false
   }
  },
  {
   "cell_type": "code",
   "execution_count": 10,
   "outputs": [
    {
     "name": "stdout",
     "output_type": "stream",
     "text": [
      "{6: '1111', 4.0: '1110', -2.0: '1101', 5: '11001', -3.0: '11000', 3.0: '101', 2.0: '100', -1.0: '011', 0.0: '010', 1: '00'}\n",
      "1000011100010110011101000000101001110100101001001000000110000001100110000001000000001110111010001000000011010001100010101011001101000101000111010101000111000101100101100010101011000101111011000101111\n"
     ]
    }
   ],
   "source": [
    "print(huffman_code)\n",
    "print(huff_encoded)"
   ],
   "metadata": {
    "collapsed": false
   }
  },
  {
   "cell_type": "markdown",
   "source": [
    "## Step 10\n",
    "### Decode Huffman"
   ],
   "metadata": {
    "collapsed": false
   }
  },
  {
   "cell_type": "code",
   "execution_count": 11,
   "outputs": [
    {
     "name": "stdout",
     "output_type": "stream",
     "text": [
      "[2.0, 1, 4.0, 1, 3.0, 2.0, 4.0, 2.0, 1, 1, 3.0, 1, 4.0, 2.0, 3.0, 1, 2.0, 2.0, 1, 1, -3.0, 1, -1.0, 1, -3.0, 1, 0.0, 1, 1, 1, -1.0, 3.0, -2.0, 1, 0.0, 1, 1, 1, -2.0, 1, -1.0, 1, 0.0, 3.0, -1.0, 1, -2.0, 1, 0.0, 2.0, -1.0, 3.0, 0.0, 2.0, -1.0, 2.0, 0.0, 5, -1.0, 1, 0.0, 3.0, -1.0, 1, 0.0, 6, -1.0, 1, 0.0, 6]\n"
     ]
    }
   ],
   "source": [
    "rl_encoded = decode_huffman(huff_encoded, huffman_code)\n",
    "print(rl_encoded)"
   ],
   "metadata": {
    "collapsed": false
   }
  },
  {
   "cell_type": "markdown",
   "source": [
    "## Step 11\n",
    "### Decode run-length encoding + Reordering of values"
   ],
   "metadata": {
    "collapsed": false
   }
  },
  {
   "cell_type": "code",
   "execution_count": 12,
   "outputs": [
    {
     "name": "stdout",
     "output_type": "stream",
     "text": [
      "[[ 2.  4.  4.  1. -3. -1.  0.  0.]\n",
      " [ 3.  4.  3.  1. -3. -1.  0.  0.]\n",
      " [ 3.  4.  2.  0. -2. -1.  0.  0.]\n",
      " [ 4.  2.  1.  1. -2. -1.  0.  0.]\n",
      " [ 3. -1.  0.  0. -1.  0.  0.  0.]\n",
      " [-1. -2.  0.  0. -1.  0.  0.  0.]\n",
      " [-1. -1.  0.  0. -1.  0.  0.  0.]\n",
      " [-1. -1.  0.  0. -1.  0.  0.  0.]]\n"
     ]
    }
   ],
   "source": [
    "un_flattened = un_flatten(rl_encoded)\n",
    "block_zig_zag = run_length_decode(un_flattened)\n",
    "block = resort_values_zig_zag_reverse(block_zig_zag, block_size)\n",
    "\n",
    "print(block)"
   ],
   "metadata": {
    "collapsed": false
   }
  },
  {
   "cell_type": "markdown",
   "source": [
    "## Step 12\n",
    "### Apply inverse quantization"
   ],
   "metadata": {
    "collapsed": false
   }
  },
  {
   "cell_type": "code",
   "execution_count": 13,
   "outputs": [
    {
     "name": "stdout",
     "output_type": "stream",
     "text": [
      "data after inverse quantization:\n",
      " [[ 20.  28.  24.  10. -42. -24.   0.   0.]\n",
      " [ 21.  28.  24.  11. -48. -35.   0.   0.]\n",
      " [ 24.  32.  20.   0. -48. -34.   0.   0.]\n",
      " [ 32.  20.  13.  17. -62. -52.   0.   0.]\n",
      " [ 33. -13.   0.   0. -41.   0.   0.   0.]\n",
      " [-14. -42.   0.   0. -49.   0.   0.   0.]\n",
      " [-29. -38.   0.   0. -62.   0.   0.   0.]\n",
      " [-43. -55.   0.   0. -67.   0.   0.   0.]]\n"
     ]
    },
    {
     "data": {
      "text/plain": "<Figure size 640x480 with 1 Axes>",
      "image/png": "[encoded data removed]"
     },
     "metadata": {},
     "output_type": "display_data"
    }
   ],
   "source": [
    "iq = quantize_inverse([block], quantization_table)\n",
    "print(\"data after inverse quantization:\\n\", iq[0])\n",
    "fig, ax = plt.subplots()\n",
    "ax.imshow(iq[0], cmap=\"gray\")\n",
    "plt.show()"
   ],
   "metadata": {
    "collapsed": false
   }
  },
  {
   "cell_type": "markdown",
   "source": [
    "## Step 13\n",
    "### Apply inverse DCT"
   ],
   "metadata": {
    "collapsed": false
   }
  },
  {
   "cell_type": "code",
   "execution_count": 14,
   "outputs": [],
   "source": [
    "inverse_dct = block_idct2(iq[0], block_size) + 128"
   ],
   "metadata": {
    "collapsed": false
   }
  },
  {
   "cell_type": "code",
   "execution_count": 15,
   "outputs": [
    {
     "name": "stdout",
     "output_type": "stream",
     "text": [
      "data after inverse dct:\n",
      " [[154.93 154.93 160.84 144.64  97.32 108.62 120.67 123.16]\n",
      " [156.61 155.41 162.88 148.14  93.12  98.33 117.84 120.3 ]\n",
      " [161.57 159.47 157.16 138.8   92.54  97.49 117.28 119.5 ]\n",
      " [167.52 142.46 161.55 156.23  81.22  81.94 111.97 114.96]\n",
      " [157.75 108.47 147.72 121.54  93.93 123.41 121.59 123.56]\n",
      " [105.51  94.76 146.08 118.03  82.73 119.75 116.49 119.39]\n",
      " [ 93.65 102.27 145.56 119.65  68.76 119.59 112.98 117.83]\n",
      " [ 75.71  90.78 147.42 116.62  63.38 117.28 110.79 115.73]]\n"
     ]
    },
    {
     "data": {
      "text/plain": "<Figure size 640x480 with 1 Axes>",
      "image/png": "[encoded data removed]"
     },
     "metadata": {},
     "output_type": "display_data"
    }
   ],
   "source": [
    "print(\"data after inverse dct:\\n\", np.round(inverse_dct,2))\n",
    "\n",
    "fig, ax = plt.subplots()\n",
    "ax.imshow(inverse_dct, cmap=\"gray\")\n",
    "plt.show()"
   ],
   "metadata": {
    "collapsed": false
   }
  },
  {
   "cell_type": "code",
   "execution_count": 16,
   "outputs": [
    {
     "name": "stdout",
     "output_type": "stream",
     "text": [
      "data after inverse dct (rounded to int & clipped to range 0..255):\n",
      " [[155. 155. 161. 145.  97. 109. 121. 123.]\n",
      " [157. 155. 163. 148.  93.  98. 118. 120.]\n",
      " [162. 159. 157. 139.  93.  97. 117. 119.]\n",
      " [168. 142. 162. 156.  81.  82. 112. 115.]\n",
      " [158. 108. 148. 122.  94. 123. 122. 124.]\n",
      " [106.  95. 146. 118.  83. 120. 116. 119.]\n",
      " [ 94. 102. 146. 120.  69. 120. 113. 118.]\n",
      " [ 76.  91. 147. 117.  63. 117. 111. 116.]]\n"
     ]
    },
    {
     "data": {
      "text/plain": "<Figure size 640x480 with 1 Axes>",
      "image/png": "[encoded data removed]"
     },
     "metadata": {},
     "output_type": "display_data"
    }
   ],
   "source": [
    "inverse_dct_ints = np.clip(np.rint(inverse_dct), a_min=0, a_max=255)\n",
    "print(\"data after inverse dct (rounded to int & clipped to range 0..255):\\n\", np.round(inverse_dct_ints,2))\n",
    "\n",
    "fig, ax = plt.subplots()\n",
    "ax.imshow(inverse_dct_ints, cmap=\"gray\")\n",
    "plt.show()"
   ],
   "metadata": {
    "collapsed": false
   }
  },
  {
   "cell_type": "code",
   "execution_count": 17,
   "outputs": [
    {
     "name": "stdout",
     "output_type": "stream",
     "text": [
      "original_image:\n",
      " [[158 156 165 147  98 106 110 124]\n",
      " [157 159 164 144  95 105 108 122]\n",
      " [161 163 161 142  94 104 108 121]\n",
      " [165 139 161 145  90 101 108 121]\n",
      " [152 106 164 142  85 100 105 116]\n",
      " [109 105 164 141  87 100 105 117]\n",
      " [ 91 105 162 142  86  99 104 116]\n",
      " [ 91 103 161 142  83  98 104 122]]\n"
     ]
    },
    {
     "data": {
      "text/plain": "<Figure size 640x480 with 1 Axes>",
      "image/png": "[encoded data removed]"
     },
     "metadata": {},
     "output_type": "display_data"
    }
   ],
   "source": [
    "# just for comparison print again\n",
    "print(\"original_image:\\n\",original_image)\n",
    "fig, ax = plt.subplots()\n",
    "ax.imshow(original_image, cmap=\"gray\")\n",
    "plt.show()"
   ],
   "metadata": {
    "collapsed": false
   }
  }
 ],
 "metadata": {
  "kernelspec": {
   "display_name": "Python 3",
   "language": "python",
   "name": "python3"
  },
  "language_info": {
   "codemirror_mode": {
    "name": "ipython",
    "version": 2
   },
   "file_extension": ".py",
   "mimetype": "text/x-python",
   "name": "python",
   "nbconvert_exporter": "python",
   "pygments_lexer": "ipython2",
   "version": "2.7.6"
  }
 },
 "nbformat": 4,
 "nbformat_minor": 0
}
